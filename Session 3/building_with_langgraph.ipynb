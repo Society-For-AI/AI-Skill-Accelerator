{
 "cells": [
  {
   "cell_type": "markdown",
   "metadata": {
    "collapsed": true,
    "jupyter": {
     "outputs_hidden": true
    }
   },
   "source": [
    "## **What is LangGraph?**\n",
    "\n",
    "LangGraph is a **framework for building stateful, controllable AI applications**.\n",
    "While libraries like LangChain focus on chaining together LLM calls, LangGraph takes it further by giving you **fine-grained control over conversation flow, state transitions, and tool usage**.\n",
    "\n",
    "It is designed around the idea that **LLMs are not just single-turn responders**—they can act as agents that **maintain memory, make decisions, and follow a defined execution plan**. With LangGraph, you can:\n",
    "\n",
    "* **Model conversations as graphs** of states and transitions\n",
    "* **Define tools and actions** the AI can call at the right time\n",
    "* **Preserve state** across steps or sessions for complex workflows\n",
    "* **Integrate with other systems** while keeping LLM behavior predictable\n",
    "\n",
    "This makes LangGraph ideal for **chatbots, agents, multi-step assistants, and workflow orchestration** where context and structure matter as much as creativity.\n",
    "\n",
    "---\n",
    "\n",
    "## **Why Start with Type Annotation?**\n",
    "\n",
    "Before diving into LangGraph, we need a **strong foundation in Python’s type system** because:\n",
    "\n",
    "1. **State Management in LangGraph**\n",
    "\n",
    "   * LangGraph uses a *State* object (often a `TypedDict`) to represent the conversation or workflow state.\n",
    "   * Defining it clearly with type annotations prevents bugs and ensures the LLM and tools work with the right data.\n",
    "\n",
    "2. **Collaboration & Maintainability**\n",
    "\n",
    "   * Clear type hints make it easier for multiple developers to work on the same LangGraph project without confusion about what data is being passed around.\n",
    "\n",
    "3. **Error Prevention**\n",
    "\n",
    "   * When you define exact types for inputs, outputs, and tools, Python’s type checkers (like `mypy`) can catch mistakes before you even run the code.\n",
    "\n",
    "4. **Better Documentation**\n",
    "\n",
    "   * Type annotations act as built-in documentation for your code, which is crucial when defining graph nodes, edges, and tool interfaces.\n",
    "\n",
    "In short, **LangGraph development thrives on clarity**, and Python type annotations are the first step toward building a robust, maintainable AI agent.\n",
    "\n",
    "---"
   ]
  },
  {
   "cell_type": "markdown",
   "metadata": {},
   "source": [
    "### Core Python Types for LangGraph Development\n",
    "\n",
    "When working with LangGraph, your code will pass state, messages, and tool inputs/outputs between nodes.\n",
    "Knowing how to use Python's typing tools ensures these data structures are clear, predictable, and easy to debug.\n",
    "\n",
    "We’ll focus on five important ones:\n",
    "\n",
    "###  1. TypedDict\n",
    "\n",
    "What it is: A way to define dictionary keys and their types explicitly.\n",
    "\n",
    "Why it matters in LangGraph: State in LangGraph is often defined as a TypedDict, so each piece of data in your workflow is labeled and type-safe."
   ]
  },
  {
   "cell_type": "code",
   "execution_count": 1,
   "metadata": {},
   "outputs": [],
   "source": [
    "from typing import TypedDict\n",
    "\n",
    "class ConversationState(TypedDict):\n",
    "    user_input: str\n",
    "    last_intent: str\n",
    "    message_count: int\n",
    "\n",
    "state: ConversationState = {\n",
    "    \"user_input\": \"What’s the weather?\",\n",
    "    \"last_intent\": \"GetWeather\",\n",
    "    \"message_count\": 1\n",
    "}"
   ]
  },
  {
   "cell_type": "code",
   "execution_count": 2,
   "metadata": {},
   "outputs": [
    {
     "data": {
      "text/plain": [
       "'What’s the weather?'"
      ]
     },
     "execution_count": 2,
     "metadata": {},
     "output_type": "execute_result"
    }
   ],
   "source": [
    "state[\"user_input\"]"
   ]
  },
  {
   "cell_type": "markdown",
   "metadata": {},
   "source": [
    "### 2. Union\n",
    "\n",
    "What it is: A way to say a variable can be one of several types.\n",
    "\n",
    "Why it matters in LangGraph: Tool inputs and LLM responses may have more than one possible type."
   ]
  },
  {
   "cell_type": "code",
   "execution_count": 3,
   "metadata": {},
   "outputs": [],
   "source": [
    "from typing import Union\n",
    "\n",
    "def square(x: Union[int, float]) -> float:\n",
    "    return x * x"
   ]
  },
  {
   "cell_type": "code",
   "execution_count": 4,
   "metadata": {},
   "outputs": [
    {
     "data": {
      "text/plain": [
       "16.0"
      ]
     },
     "execution_count": 4,
     "metadata": {},
     "output_type": "execute_result"
    }
   ],
   "source": [
    "square(4.0)"
   ]
  },
  {
   "cell_type": "markdown",
   "metadata": {},
   "source": [
    "## 3. Optional\n",
    "\n",
    "- What it is: Shorthand for “this can be a type or None”.\n",
    "\n",
    "- Why it matters in LangGraph: Sometimes, not all fields in your state are filled yet (e.g., user hasn’t provided their name)."
   ]
  },
  {
   "cell_type": "code",
   "execution_count": 5,
   "metadata": {},
   "outputs": [],
   "source": [
    "from typing import Optional\n",
    "\n",
    "def greet_user(name: Optional[str]) -> None:\n",
    "    if name:\n",
    "        print(f\"Hello {name}!\")\n",
    "    else:\n",
    "        print(\"Hello guest!\")\n",
    "\n",
    "\n",
    "def greet_user_no_name(name: Optional[str]) -> str:\n",
    "    if name:\n",
    "        print(f\"Hello {name}!\")"
   ]
  },
  {
   "cell_type": "code",
   "execution_count": 6,
   "metadata": {},
   "outputs": [
    {
     "name": "stdout",
     "output_type": "stream",
     "text": [
      "Hello guest!\n"
     ]
    }
   ],
   "source": [
    "greet_user(name=None)"
   ]
  },
  {
   "cell_type": "markdown",
   "metadata": {},
   "source": [
    "### 4. Any\n",
    "\n",
    "- What it is: Disables type checking for a variable (can hold anything).\n",
    "\n",
    "- Why it matters in LangGraph: Useful for data that can’t be predicted upfront (e.g., raw LLM API output)."
   ]
  },
  {
   "cell_type": "code",
   "execution_count": 7,
   "metadata": {},
   "outputs": [],
   "source": [
    "from typing import Any\n",
    "\n",
    "def debug_log(data: Any) -> None:\n",
    "    print(\"Debug:\", data)"
   ]
  },
  {
   "cell_type": "markdown",
   "metadata": {},
   "source": [
    "### 5. Lambda Functions\n",
    "\n",
    "- What they are: Small, anonymous functions defined in a single line.\n",
    "\n",
    "- Why it matters in LangGraph: Handy for inline data transformations, filtering results, or mapping over state items."
   ]
  },
  {
   "cell_type": "code",
   "execution_count": 8,
   "metadata": {},
   "outputs": [],
   "source": [
    "numbers = [1, 2, 3]\n",
    "squares = list(map(lambda x: x * x, numbers))"
   ]
  },
  {
   "cell_type": "markdown",
   "metadata": {},
   "source": [
    "## Next thing we would cover is Elements"
   ]
  },
  {
   "cell_type": "markdown",
   "metadata": {},
   "source": [
    "\n",
    "# Elements\n",
    "\n",
    "\n",
    "* **State**\n",
    "  A shared data structure that holds the current information or context of the entire application. It acts as the application's memory, keeping track of variables and data that nodes can access and modify as they execute.\n",
    "\n",
    "\n",
    "* **Node**\n",
    "  Individual functions or operations that perform specific tasks within a graph. Each node receives input (typically the current state), processes it, and returns an updated state.\n",
    "\n",
    "\n",
    "* **Graph**\n",
    "  The overarching structure that maps out the connections and execution flow among different nodes (tasks).\n",
    "\n",
    "\n",
    "* **Edges**\n",
    "  Connections between nodes that determine the flow of execution.\n",
    "\n",
    "\n",
    "* **Conditional Edges**\n",
    "  Specialized connections that decide the next node to execute based on specific conditions or logic applied to the current state.\n",
    "\n",
    "\n",
    "* **Start Node**\n",
    "  A virtual entry point in LangGraph marking where the workflow begins. It does not perform any operation itself but serves as the designated start position of the graph execution.\n",
    "\n",
    "\n",
    "* **End Node**\n",
    "  Signifies the conclusion of the workflow in LangGraph. All execution stops before reaching this node, indicating that the process is complete.\n",
    "\n",
    "\n",
    "* **Tools**\n",
    "  Specialized functions or utilities that nodes can use to perform specific tasks, such as fetching data from an API.\n",
    "\n",
    "\n",
    "* **ToolNode**\n",
    "  A special kind of node whose main job is to run a tool. It connects a tool’s output back into the state so that other nodes can use the resulting information.\n",
    "\n",
    "\n",
    "* **StateGraph**\n",
    "  A class in LangGraph used to build and compile the graph structure. It manages nodes, edges, and overall state, ensuring that workflows operate in a unified way and that data flows correctly between components.\n",
    "\n",
    "\n",
    "* **Runnable**\n",
    "  A standardized executable component in LangGraph that performs a specific task within an AI workflow.\n",
    "\n",
    "\n",
    "* **Messages**\n",
    "  Structured inputs and outputs exchanged between agents or components, typically used to maintain context in conversational applications.\n",
    "\n"
   ]
  },
  {
   "cell_type": "markdown",
   "metadata": {},
   "source": [
    "### To put it all together in `simple_agent.py`"
   ]
  },
  {
   "cell_type": "code",
   "execution_count": 9,
   "metadata": {},
   "outputs": [],
   "source": [
    "from IPython import get_ipython\n",
    "import io\n",
    "\n",
    "\n",
    "def is_jupyter():\n",
    "    \"\"\"\n",
    "    \n",
    "    This function helps us detecct the juypter environment\n",
    "    \n",
    "    \"\"\"\n",
    "    try:\n",
    "        shell = get_ipython().__class__.__name__\n",
    "        return shell in ('ZMQInteractiveShell', 'Shell')\n",
    "    except NameError:\n",
    "        return False\n",
    "\n",
    "\n",
    "if is_jupyter():\n",
    "    \"\"\"\n",
    "    This is a conditional import for jupyter notebook\n",
    "    \"\"\"\n",
    "    from IPython.display import Image as IPyImage, display\n",
    "\n",
    "\n",
    "    def show_image(obj):\n",
    "        if isinstance(obj, bytes):\n",
    "            img = IPyImage(data=obj)\n",
    "        else:\n",
    "            img = IPyImage(filename=obj)\n",
    "        display(img)\n",
    "\n",
    "else:\n",
    "    from PIL import Image as PILImage\n",
    "\n",
    "\n",
    "    def show_image(obj):\n",
    "        if isinstance(obj, bytes):\n",
    "            img = PILImage.open(io.BytesIO(obj))\n",
    "        else:\n",
    "            img = PILImage.open(obj)\n",
    "        img.show()"
   ]
  },
  {
   "cell_type": "code",
   "execution_count": 10,
   "metadata": {},
   "outputs": [
    {
     "data": {
      "text/plain": [
       "True"
      ]
     },
     "execution_count": 10,
     "metadata": {},
     "output_type": "execute_result"
    }
   ],
   "source": [
    "is_jupyter()"
   ]
  },
  {
   "cell_type": "code",
   "execution_count": 11,
   "metadata": {},
   "outputs": [
    {
     "name": "stdout",
     "output_type": "stream",
     "text": [
      "Requirement already satisfied: langgraph in /home/iamthevectorian/.local/share/virtualenvs/AI-Skill-Accelerator-NLP-hF9l7mPg/lib/python3.9/site-packages (0.6.5)\n",
      "Requirement already satisfied: langchain-core>=0.1 in /home/iamthevectorian/.local/share/virtualenvs/AI-Skill-Accelerator-NLP-hF9l7mPg/lib/python3.9/site-packages (from langgraph) (0.3.74)\n",
      "Requirement already satisfied: langgraph-checkpoint<3.0.0,>=2.1.0 in /home/iamthevectorian/.local/share/virtualenvs/AI-Skill-Accelerator-NLP-hF9l7mPg/lib/python3.9/site-packages (from langgraph) (2.1.1)\n",
      "Requirement already satisfied: langgraph-prebuilt<0.7.0,>=0.6.0 in /home/iamthevectorian/.local/share/virtualenvs/AI-Skill-Accelerator-NLP-hF9l7mPg/lib/python3.9/site-packages (from langgraph) (0.6.4)\n",
      "Requirement already satisfied: langgraph-sdk<0.3.0,>=0.2.0 in /home/iamthevectorian/.local/share/virtualenvs/AI-Skill-Accelerator-NLP-hF9l7mPg/lib/python3.9/site-packages (from langgraph) (0.2.0)\n",
      "Requirement already satisfied: pydantic>=2.7.4 in /home/iamthevectorian/.local/share/virtualenvs/AI-Skill-Accelerator-NLP-hF9l7mPg/lib/python3.9/site-packages (from langgraph) (2.11.7)\n",
      "Requirement already satisfied: xxhash>=3.5.0 in /home/iamthevectorian/.local/share/virtualenvs/AI-Skill-Accelerator-NLP-hF9l7mPg/lib/python3.9/site-packages (from langgraph) (3.5.0)\n",
      "Requirement already satisfied: ormsgpack>=1.10.0 in /home/iamthevectorian/.local/share/virtualenvs/AI-Skill-Accelerator-NLP-hF9l7mPg/lib/python3.9/site-packages (from langgraph-checkpoint<3.0.0,>=2.1.0->langgraph) (1.10.0)\n",
      "Requirement already satisfied: httpx>=0.25.2 in /home/iamthevectorian/.local/share/virtualenvs/AI-Skill-Accelerator-NLP-hF9l7mPg/lib/python3.9/site-packages (from langgraph-sdk<0.3.0,>=0.2.0->langgraph) (0.28.1)\n",
      "Requirement already satisfied: orjson>=3.10.1 in /home/iamthevectorian/.local/share/virtualenvs/AI-Skill-Accelerator-NLP-hF9l7mPg/lib/python3.9/site-packages (from langgraph-sdk<0.3.0,>=0.2.0->langgraph) (3.11.2)\n",
      "Requirement already satisfied: anyio in /home/iamthevectorian/.local/share/virtualenvs/AI-Skill-Accelerator-NLP-hF9l7mPg/lib/python3.9/site-packages (from httpx>=0.25.2->langgraph-sdk<0.3.0,>=0.2.0->langgraph) (4.10.0)\n",
      "Requirement already satisfied: certifi in /home/iamthevectorian/.local/share/virtualenvs/AI-Skill-Accelerator-NLP-hF9l7mPg/lib/python3.9/site-packages (from httpx>=0.25.2->langgraph-sdk<0.3.0,>=0.2.0->langgraph) (2025.8.3)\n",
      "Requirement already satisfied: httpcore==1.* in /home/iamthevectorian/.local/share/virtualenvs/AI-Skill-Accelerator-NLP-hF9l7mPg/lib/python3.9/site-packages (from httpx>=0.25.2->langgraph-sdk<0.3.0,>=0.2.0->langgraph) (1.0.9)\n",
      "Requirement already satisfied: idna in /home/iamthevectorian/.local/share/virtualenvs/AI-Skill-Accelerator-NLP-hF9l7mPg/lib/python3.9/site-packages (from httpx>=0.25.2->langgraph-sdk<0.3.0,>=0.2.0->langgraph) (3.10)\n",
      "Requirement already satisfied: h11>=0.16 in /home/iamthevectorian/.local/share/virtualenvs/AI-Skill-Accelerator-NLP-hF9l7mPg/lib/python3.9/site-packages (from httpcore==1.*->httpx>=0.25.2->langgraph-sdk<0.3.0,>=0.2.0->langgraph) (0.16.0)\n",
      "Requirement already satisfied: langsmith>=0.3.45 in /home/iamthevectorian/.local/share/virtualenvs/AI-Skill-Accelerator-NLP-hF9l7mPg/lib/python3.9/site-packages (from langchain-core>=0.1->langgraph) (0.4.14)\n",
      "Requirement already satisfied: tenacity!=8.4.0,<10.0.0,>=8.1.0 in /home/iamthevectorian/.local/share/virtualenvs/AI-Skill-Accelerator-NLP-hF9l7mPg/lib/python3.9/site-packages (from langchain-core>=0.1->langgraph) (9.1.2)\n",
      "Requirement already satisfied: jsonpatch<2.0,>=1.33 in /home/iamthevectorian/.local/share/virtualenvs/AI-Skill-Accelerator-NLP-hF9l7mPg/lib/python3.9/site-packages (from langchain-core>=0.1->langgraph) (1.33)\n",
      "Requirement already satisfied: PyYAML>=5.3 in /home/iamthevectorian/.local/share/virtualenvs/AI-Skill-Accelerator-NLP-hF9l7mPg/lib/python3.9/site-packages (from langchain-core>=0.1->langgraph) (6.0.2)\n",
      "Requirement already satisfied: typing-extensions>=4.7 in /home/iamthevectorian/.local/share/virtualenvs/AI-Skill-Accelerator-NLP-hF9l7mPg/lib/python3.9/site-packages (from langchain-core>=0.1->langgraph) (4.14.1)\n",
      "Requirement already satisfied: packaging>=23.2 in /home/iamthevectorian/.local/share/virtualenvs/AI-Skill-Accelerator-NLP-hF9l7mPg/lib/python3.9/site-packages (from langchain-core>=0.1->langgraph) (25.0)\n",
      "Requirement already satisfied: jsonpointer>=1.9 in /home/iamthevectorian/.local/share/virtualenvs/AI-Skill-Accelerator-NLP-hF9l7mPg/lib/python3.9/site-packages (from jsonpatch<2.0,>=1.33->langchain-core>=0.1->langgraph) (3.0.0)\n",
      "Requirement already satisfied: requests-toolbelt>=1.0.0 in /home/iamthevectorian/.local/share/virtualenvs/AI-Skill-Accelerator-NLP-hF9l7mPg/lib/python3.9/site-packages (from langsmith>=0.3.45->langchain-core>=0.1->langgraph) (1.0.0)\n",
      "Requirement already satisfied: requests>=2.0.0 in /home/iamthevectorian/.local/share/virtualenvs/AI-Skill-Accelerator-NLP-hF9l7mPg/lib/python3.9/site-packages (from langsmith>=0.3.45->langchain-core>=0.1->langgraph) (2.32.4)\n",
      "Requirement already satisfied: zstandard>=0.23.0 in /home/iamthevectorian/.local/share/virtualenvs/AI-Skill-Accelerator-NLP-hF9l7mPg/lib/python3.9/site-packages (from langsmith>=0.3.45->langchain-core>=0.1->langgraph) (0.23.0)\n",
      "Requirement already satisfied: annotated-types>=0.6.0 in /home/iamthevectorian/.local/share/virtualenvs/AI-Skill-Accelerator-NLP-hF9l7mPg/lib/python3.9/site-packages (from pydantic>=2.7.4->langgraph) (0.7.0)\n",
      "Requirement already satisfied: pydantic-core==2.33.2 in /home/iamthevectorian/.local/share/virtualenvs/AI-Skill-Accelerator-NLP-hF9l7mPg/lib/python3.9/site-packages (from pydantic>=2.7.4->langgraph) (2.33.2)\n",
      "Requirement already satisfied: typing-inspection>=0.4.0 in /home/iamthevectorian/.local/share/virtualenvs/AI-Skill-Accelerator-NLP-hF9l7mPg/lib/python3.9/site-packages (from pydantic>=2.7.4->langgraph) (0.4.1)\n",
      "Requirement already satisfied: charset_normalizer<4,>=2 in /home/iamthevectorian/.local/share/virtualenvs/AI-Skill-Accelerator-NLP-hF9l7mPg/lib/python3.9/site-packages (from requests>=2.0.0->langsmith>=0.3.45->langchain-core>=0.1->langgraph) (3.4.3)\n",
      "Requirement already satisfied: urllib3<3,>=1.21.1 in /home/iamthevectorian/.local/share/virtualenvs/AI-Skill-Accelerator-NLP-hF9l7mPg/lib/python3.9/site-packages (from requests>=2.0.0->langsmith>=0.3.45->langchain-core>=0.1->langgraph) (2.5.0)\n",
      "Requirement already satisfied: exceptiongroup>=1.0.2 in /home/iamthevectorian/.local/share/virtualenvs/AI-Skill-Accelerator-NLP-hF9l7mPg/lib/python3.9/site-packages (from anyio->httpx>=0.25.2->langgraph-sdk<0.3.0,>=0.2.0->langgraph) (1.3.0)\n",
      "Requirement already satisfied: sniffio>=1.1 in /home/iamthevectorian/.local/share/virtualenvs/AI-Skill-Accelerator-NLP-hF9l7mPg/lib/python3.9/site-packages (from anyio->httpx>=0.25.2->langgraph-sdk<0.3.0,>=0.2.0->langgraph) (1.3.1)\n",
      "\n",
      "\u001b[1m[\u001b[0m\u001b[34;49mnotice\u001b[0m\u001b[1;39;49m]\u001b[0m\u001b[39;49m A new release of pip is available: \u001b[0m\u001b[31;49m25.1.1\u001b[0m\u001b[39;49m -> \u001b[0m\u001b[32;49m25.2\u001b[0m\n",
      "\u001b[1m[\u001b[0m\u001b[34;49mnotice\u001b[0m\u001b[1;39;49m]\u001b[0m\u001b[39;49m To update, run: \u001b[0m\u001b[32;49mpip install --upgrade pip\u001b[0m\n"
     ]
    }
   ],
   "source": [
    "!pip install langgraph"
   ]
  },
  {
   "cell_type": "code",
   "execution_count": 12,
   "metadata": {},
   "outputs": [],
   "source": [
    "from typing import TypedDict\n",
    "from langgraph.graph import StateGraph, START, END\n",
    "\n",
    "class AgentState(TypedDict):\n",
    "    message: str\n",
    "    old_message: str\n",
    "    math_mssg: int\n",
    "    human_dict: dict\n",
    "\n",
    "\n",
    "def math_node(state: AgentState):\n",
    "    \"\"\"\n",
    "     This node is for giving a new user compliments.\n",
    "    \"\"\"\n",
    "    state['math_mssg'] = 2 + 2\n",
    "\n",
    "    state['human_dict'] = {\n",
    "        \"first_name\": \"Sam\",\n",
    "        \"last_name\": \"Dada\",\n",
    "    }\n",
    "    \n",
    "    return state\n",
    "    \n",
    "def compliment_node(state: AgentState):\n",
    "    \"\"\"\n",
    "     This node is for giving a new user compliments.\n",
    "    \"\"\"\n",
    "    state['message'] = f\"{state['message']}, you are an amazing person for learning LangGraph\"\n",
    "\n",
    "    return state\n",
    "   \n",
    "def bye_node(state: AgentState):\n",
    "    \"\"\"\n",
    "     This node is for giving a new user compliments.\n",
    "    \"\"\"\n",
    "    state['old_message'] = state['message']\n",
    "    state['message'] = f\"GoodBye\"\n",
    "    return state\n",
    "\n"
   ]
  },
  {
   "cell_type": "code",
   "execution_count": 13,
   "metadata": {},
   "outputs": [],
   "source": [
    "graph = StateGraph(AgentState)"
   ]
  },
  {
   "cell_type": "code",
   "execution_count": 14,
   "metadata": {},
   "outputs": [
    {
     "data": {
      "text/plain": [
       "<langgraph.graph.state.StateGraph at 0x79222865c5e0>"
      ]
     },
     "execution_count": 14,
     "metadata": {},
     "output_type": "execute_result"
    }
   ],
   "source": [
    "graph.add_node(\"compliment one\", compliment_node)"
   ]
  },
  {
   "cell_type": "code",
   "execution_count": 15,
   "metadata": {},
   "outputs": [
    {
     "data": {
      "text/plain": [
       "<langgraph.graph.state.StateGraph at 0x79222865c5e0>"
      ]
     },
     "execution_count": 15,
     "metadata": {},
     "output_type": "execute_result"
    }
   ],
   "source": [
    "graph.add_node(\"bye bye\", bye_node)"
   ]
  },
  {
   "cell_type": "code",
   "execution_count": 16,
   "metadata": {},
   "outputs": [
    {
     "data": {
      "text/plain": [
       "<langgraph.graph.state.StateGraph at 0x79222865c5e0>"
      ]
     },
     "execution_count": 16,
     "metadata": {},
     "output_type": "execute_result"
    }
   ],
   "source": [
    "graph.add_node(\"math guy\", math_node)"
   ]
  },
  {
   "cell_type": "code",
   "execution_count": 17,
   "metadata": {},
   "outputs": [
    {
     "data": {
      "text/plain": [
       "<langgraph.graph.state.StateGraph at 0x79222865c5e0>"
      ]
     },
     "execution_count": 17,
     "metadata": {},
     "output_type": "execute_result"
    }
   ],
   "source": [
    "graph.set_entry_point(\"compliment one\")"
   ]
  },
  {
   "cell_type": "code",
   "execution_count": 18,
   "metadata": {},
   "outputs": [
    {
     "data": {
      "text/plain": [
       "<langgraph.graph.state.StateGraph at 0x79222865c5e0>"
      ]
     },
     "execution_count": 18,
     "metadata": {},
     "output_type": "execute_result"
    }
   ],
   "source": [
    "graph.add_edge(\"compliment one\", \"math guy\")"
   ]
  },
  {
   "cell_type": "code",
   "execution_count": 19,
   "metadata": {},
   "outputs": [
    {
     "data": {
      "text/plain": [
       "<langgraph.graph.state.StateGraph at 0x79222865c5e0>"
      ]
     },
     "execution_count": 19,
     "metadata": {},
     "output_type": "execute_result"
    }
   ],
   "source": [
    "graph.add_edge(\"math guy\", \"bye bye\")"
   ]
  },
  {
   "cell_type": "code",
   "execution_count": 20,
   "metadata": {},
   "outputs": [
    {
     "data": {
      "text/plain": [
       "<langgraph.graph.state.StateGraph at 0x79222865c5e0>"
      ]
     },
     "execution_count": 20,
     "metadata": {},
     "output_type": "execute_result"
    }
   ],
   "source": [
    "graph.set_finish_point(\"bye bye\")"
   ]
  },
  {
   "cell_type": "code",
   "execution_count": 21,
   "metadata": {},
   "outputs": [],
   "source": [
    "app = graph.compile()"
   ]
  },
  {
   "cell_type": "code",
   "execution_count": 22,
   "metadata": {},
   "outputs": [
    {
     "data": {
      "image/png": "[encoded data removed]",
      "text/plain": [
       "<IPython.core.display.Image object>"
      ]
     },
     "metadata": {},
     "output_type": "display_data"
    }
   ],
   "source": [
    "show_image(app.get_graph().draw_mermaid_png())"
   ]
  },
  {
   "cell_type": "code",
   "execution_count": 23,
   "metadata": {},
   "outputs": [],
   "source": [
    "initial_message_state = {\n",
    "    \"message\": \"Henry\"\n",
    "}\n",
    "\n",
    "agent_message = app.invoke(initial_message_state)"
   ]
  },
  {
   "cell_type": "code",
   "execution_count": 24,
   "metadata": {},
   "outputs": [
    {
     "data": {
      "text/plain": [
       "'GoodBye'"
      ]
     },
     "execution_count": 24,
     "metadata": {},
     "output_type": "execute_result"
    }
   ],
   "source": [
    "agent_message[\"message\"]"
   ]
  },
  {
   "cell_type": "code",
   "execution_count": 25,
   "metadata": {},
   "outputs": [
    {
     "data": {
      "text/plain": [
       "'Henry, you are an amazing person for learning LangGraph'"
      ]
     },
     "execution_count": 25,
     "metadata": {},
     "output_type": "execute_result"
    }
   ],
   "source": [
    "agent_message[\"old_message\"]"
   ]
  },
  {
   "cell_type": "code",
   "execution_count": 26,
   "metadata": {},
   "outputs": [
    {
     "data": {
      "text/plain": [
       "4"
      ]
     },
     "execution_count": 26,
     "metadata": {},
     "output_type": "execute_result"
    }
   ],
   "source": [
    "agent_message[\"math_mssg\"]"
   ]
  },
  {
   "cell_type": "code",
   "execution_count": 27,
   "metadata": {},
   "outputs": [
    {
     "data": {
      "text/plain": [
       "{'first_name': 'Sam', 'last_name': 'Dada'}"
      ]
     },
     "execution_count": 27,
     "metadata": {},
     "output_type": "execute_result"
    }
   ],
   "source": [
    "agent_message[\"human_dict\"]"
   ]
  },
  {
   "cell_type": "markdown",
   "metadata": {},
   "source": [
    "# Next class we collect User Input"
   ]
  },
  {
   "cell_type": "markdown",
   "metadata": {},
   "source": [
    "# Calculator Agent"
   ]
  },
  {
   "cell_type": "code",
   "execution_count": 28,
   "metadata": {},
   "outputs": [],
   "source": [
    "class CalcAgentState(TypedDict):\n",
    "    num1: int\n",
    "    num2: int\n",
    "    num3: int\n",
    "    num4: int\n",
    "    sum_result: int\n",
    "    diff_result: int\n",
    "    operation: str"
   ]
  },
  {
   "cell_type": "code",
   "execution_count": 29,
   "metadata": {},
   "outputs": [],
   "source": [
    "def addition_node(state: CalcAgentState):\n",
    "    \"\"\"\n",
    "        This is a node for handling addition process.\n",
    "    \"\"\"\n",
    "\n",
    "    state['sum_result'] = state['num1'] +  state['num2']\n",
    "    return state"
   ]
  },
  {
   "cell_type": "code",
   "execution_count": 30,
   "metadata": {},
   "outputs": [],
   "source": [
    "def subtraction_node(state: CalcAgentState):\n",
    "    \"\"\"\n",
    "        This is a node for handling subtraction process.\n",
    "    \"\"\"\n",
    "\n",
    "    state['diff_result'] = state['num3'] +  state['num4']\n",
    "    return state"
   ]
  },
  {
   "cell_type": "code",
   "execution_count": 31,
   "metadata": {},
   "outputs": [],
   "source": [
    "class OperationError(Exception):\n",
    "    \"\"\"\n",
    "     Error raised when users operation entry is invalid.\n",
    "    \"\"\"\n",
    "    pass"
   ]
  },
  {
   "cell_type": "code",
   "execution_count": 32,
   "metadata": {},
   "outputs": [],
   "source": [
    "def user_entry_node(state: CalcAgentState):\n",
    "    \"\"\"\n",
    "\n",
    "    This node allows the user decide what they want to do.\n",
    "    \"\"\"\n",
    "\n",
    "    operation = input()\n",
    "\n",
    "    if operation == '+' or operation ==  '-':\n",
    "        pass\n",
    "    else:\n",
    "         raise OperationError(\"Invalid operation detected\")\n",
    "    state['operation'] = operation\n",
    "    return state"
   ]
  },
  {
   "cell_type": "code",
   "execution_count": 33,
   "metadata": {},
   "outputs": [],
   "source": [
    "def decision_node(state: CalcAgentState):\n",
    "    \"\"\"\n",
    "\n",
    "     This node selects operation depending on users decision.\n",
    "     \n",
    "    \"\"\"\n",
    "    if state['operation'] == '+':\n",
    "        return \"addition_operation\"\n",
    "    elif state['operation'] == '-':\n",
    "        return \"subtraction_operation\"\n",
    "        "
   ]
  },
  {
   "cell_type": "code",
   "execution_count": 34,
   "metadata": {},
   "outputs": [
    {
     "data": {
      "text/plain": [
       "<langgraph.graph.state.StateGraph at 0x792211d92a30>"
      ]
     },
     "execution_count": 34,
     "metadata": {},
     "output_type": "execute_result"
    }
   ],
   "source": [
    "calc_graph = StateGraph(CalcAgentState)\n",
    "calc_graph.add_node('add_node', addition_node)\n",
    "calc_graph.add_node('sub_node', subtraction_node)\n",
    "calc_graph.add_node('user_input_node', user_entry_node)\n",
    "calc_graph.add_node('decision node', lambda x: x)"
   ]
  },
  {
   "cell_type": "code",
   "execution_count": 35,
   "metadata": {},
   "outputs": [
    {
     "data": {
      "text/plain": [
       "<langgraph.graph.state.StateGraph at 0x792211d92a30>"
      ]
     },
     "execution_count": 35,
     "metadata": {},
     "output_type": "execute_result"
    }
   ],
   "source": [
    "calc_graph.set_entry_point(\"user_input_node\")\n",
    "calc_graph.add_edge(\"user_input_node\", \"decision node\")\n",
    "calc_graph.add_conditional_edges(\n",
    "    source = 'decision node',\n",
    "    path = decision_node,\n",
    "    path_map = {\n",
    "        # Edge: Node\n",
    "        \"addition_operation\" : \"add_node\", \n",
    "        \"subtraction_operation\" : \"sub_node\"\n",
    "    }\n",
    ")"
   ]
  },
  {
   "cell_type": "code",
   "execution_count": 36,
   "metadata": {},
   "outputs": [
    {
     "data": {
      "text/plain": [
       "<langgraph.graph.state.StateGraph at 0x792211d92a30>"
      ]
     },
     "execution_count": 36,
     "metadata": {},
     "output_type": "execute_result"
    }
   ],
   "source": [
    "calc_graph.add_edge('decision node','sub_node')\n",
    "calc_graph.add_edge('decision node','add_node')\n",
    "calc_graph.add_edge('sub_node', END)\n",
    "calc_graph.add_edge('add_node', END)graph"
   ]
  },
  {
   "cell_type": "code",
   "execution_count": 37,
   "metadata": {},
   "outputs": [
    {
     "data": {
      "image/png": "[encoded data removed]",
      "text/plain": [
       "<IPython.core.display.Image object>"
      ]
     },
     "metadata": {},
     "output_type": "display_data"
    }
   ],
   "source": [
    "app = calc_graph.compile()\n",
    "show_image(app.get_graph().draw_mermaid_png())"
   ]
  },
  {
   "cell_type": "code",
   "execution_count": null,
   "metadata": {},
   "outputs": [],
   "source": []
  }
 ],
 "metadata": {
  "kernelspec": {
   "display_name": "Python 3 (ipykernel)",
   "language": "python",
   "name": "python3"
  },
  "language_info": {
   "codemirror_mode": {
    "name": "ipython",
    "version": 3
   },
   "file_extension": ".py",
   "mimetype": "text/x-python",
   "name": "python",
   "nbconvert_exporter": "python",
   "pygments_lexer": "ipython3",
   "version": "3.9.23"
  }
 },
 "nbformat": 4,
 "nbformat_minor": 4
}
